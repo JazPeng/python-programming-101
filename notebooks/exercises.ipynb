{
 "cells": [
  {
   "cell_type": "markdown",
   "metadata": {},
   "source": [
    "# Python Programming 101"
   ]
  },
  {
   "cell_type": "markdown",
   "metadata": {},
   "source": [
    "## Exercise 1\n",
    "\n",
    "Write a function called `give_me_5` that returns the integer 5."
   ]
  },
  {
   "cell_type": "code",
   "execution_count": null,
   "metadata": {
    "collapsed": true
   },
   "outputs": [],
   "source": []
  },
  {
   "cell_type": "markdown",
   "metadata": {},
   "source": [
    "## Exercise 2\n",
    "\n",
    "Write a function called `print_even_100` that prints all the even numbers between 1 and 100."
   ]
  },
  {
   "cell_type": "code",
   "execution_count": null,
   "metadata": {
    "collapsed": true
   },
   "outputs": [],
   "source": []
  },
  {
   "cell_type": "markdown",
   "metadata": {},
   "source": [
    "## Exercise 3\n",
    "\n",
    "Write a function called `div_by` that takes an integer `divisor`, and returns a list of the numbers between 1 and 100 divisible by `divisor`.\n",
    "\n",
    "For example, `div_by(50)` should return `[50, 100]`."
   ]
  },
  {
   "cell_type": "code",
   "execution_count": null,
   "metadata": {
    "collapsed": true
   },
   "outputs": [],
   "source": []
  },
  {
   "cell_type": "markdown",
   "metadata": {},
   "source": [
    "## Exercise 4\n",
    "\n",
    "Change the function `div_by` so that it takes a **list** of integers `divisors`, and returns a list of the numbers between 1 and 100 divisible by at least one of the `divisors`.\n",
    "\n",
    "For example, `div_by([50, 75])` should return `[50, 75, 100]`."
   ]
  },
  {
   "cell_type": "code",
   "execution_count": null,
   "metadata": {
    "collapsed": true
   },
   "outputs": [],
   "source": []
  },
  {
   "cell_type": "markdown",
   "metadata": {},
   "source": [
    "## Exercise 5\n",
    "\n",
    "Write a function called `my_max` that takes a list of numbers, and returns the maximum of those numbers.\n",
    "\n",
    "For example, `my_max([-1, 3, -5, 7])` should return `7`."
   ]
  },
  {
   "cell_type": "code",
   "execution_count": null,
   "metadata": {
    "collapsed": true
   },
   "outputs": [],
   "source": []
  },
  {
   "cell_type": "markdown",
   "metadata": {},
   "source": [
    "## Exercise 6\n",
    "\n",
    "Write a function called `total_length` that takes a list of strings, and returns the sum of all the lengths of those strings (try using a list comprehension).\n",
    "\n",
    "For example, `total_length(['One', 'Two', 'Three'])` should return `11`."
   ]
  },
  {
   "cell_type": "code",
   "execution_count": null,
   "metadata": {
    "collapsed": true
   },
   "outputs": [],
   "source": []
  },
  {
   "cell_type": "markdown",
   "metadata": {},
   "source": [
    "## Exercise 7\n",
    "\n",
    "Write a function called `ends_with_ly` that takes a list of strings, and returns a list of booleans indicating which of those strings end with 'ly'.\n",
    "\n",
    "For example, `ends_with_ly(['Happy', 'Sad', 'Happily', 'Sadly'])` should return `[False, False, True, True]`."
   ]
  },
  {
   "cell_type": "code",
   "execution_count": null,
   "metadata": {
    "collapsed": true
   },
   "outputs": [],
   "source": []
  },
  {
   "cell_type": "markdown",
   "metadata": {},
   "source": [
    "## Exercise 8\n",
    "\n",
    "Write a function called `count_items` that takes a list of items, and returns a dictionary with the different items as keys, and the number of times they appear in the list as values.\n",
    "\n",
    "For example, `count_items(['Python', 'C', 'Python', 'Java', 'C'])` should return `{'C': 2, 'Java': 1, 'Python': 2}`."
   ]
  },
  {
   "cell_type": "code",
   "execution_count": null,
   "metadata": {
    "collapsed": true
   },
   "outputs": [],
   "source": []
  },
  {
   "cell_type": "markdown",
   "metadata": {},
   "source": [
    "## Exercise 9\n",
    "\n",
    "Use the Standard Library to achieve the same functionality (check out [this page](https://docs.python.org/3/library/collections.html))."
   ]
  },
  {
   "cell_type": "code",
   "execution_count": null,
   "metadata": {
    "collapsed": true
   },
   "outputs": [],
   "source": []
  },
  {
   "cell_type": "markdown",
   "metadata": {},
   "source": [
    "## Exercise 10\n",
    "\n",
    "Write a function called `most_popular` that takes a list of items, and returns a list of tuples representing the items that appear most commonly in the list, and the number of times they appear.\n",
    "\n",
    "For example, `most_popular(['Python', 'C', 'Python', 'Java', 'C'])` should return `[('C', 2), ('Python', 2)]`."
   ]
  },
  {
   "cell_type": "code",
   "execution_count": null,
   "metadata": {
    "collapsed": true
   },
   "outputs": [],
   "source": []
  }
 ],
 "metadata": {
  "kernelspec": {
   "display_name": "Python 3",
   "language": "python",
   "name": "python3"
  },
  "language_info": {
   "codemirror_mode": {
    "name": "ipython",
    "version": 3
   },
   "file_extension": ".py",
   "mimetype": "text/x-python",
   "name": "python",
   "nbconvert_exporter": "python",
   "pygments_lexer": "ipython3",
   "version": "3.6.2"
  }
 },
 "nbformat": 4,
 "nbformat_minor": 2
}
